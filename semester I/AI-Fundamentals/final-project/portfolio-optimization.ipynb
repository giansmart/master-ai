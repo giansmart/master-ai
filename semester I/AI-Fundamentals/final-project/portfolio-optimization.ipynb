{
 "cells": [
  {
   "cell_type": "code",
   "execution_count": 5,
   "metadata": {},
   "outputs": [
    {
     "name": "stdout",
     "output_type": "stream",
     "text": [
      "Note: you may need to restart the kernel to use updated packages.\n",
      "Note: you may need to restart the kernel to use updated packages.\n"
     ]
    }
   ],
   "source": [
    "%pip install --upgrade pip --quiet\n",
    "%pip install numpy --quiet"
   ]
  },
  {
   "cell_type": "code",
   "execution_count": 7,
   "metadata": {},
   "outputs": [],
   "source": [
    "import random\n",
    "import numpy as np"
   ]
  },
  {
   "cell_type": "code",
   "execution_count": 27,
   "metadata": {},
   "outputs": [],
   "source": [
    "population_size = 5\n",
    "N = 20\n",
    "num_generations = 10\n",
    "mutation_rate = 0.01\n",
    "\n",
    "# Función para generar una población inicial\n",
    "def generate_population(pop_size, num_assets):\n",
    "    return [ np.random.dirichlet(np.ones(num_assets), size=1)[0] for _ in range(pop_size)]"
   ]
  },
  {
   "cell_type": "code",
   "execution_count": 28,
   "metadata": {},
   "outputs": [
    {
     "data": {
      "text/plain": [
       "[array([0.06205531, 0.15607188, 0.02206275, 0.03673279, 0.00457942,\n",
       "        0.02439323, 0.06730759, 0.02612592, 0.02176624, 0.03308615,\n",
       "        0.01767705, 0.01942021, 0.07441034, 0.03248616, 0.0228129 ,\n",
       "        0.06889369, 0.12881749, 0.07701701, 0.08472213, 0.01956174]),\n",
       " array([0.22370779, 0.00865258, 0.02042592, 0.0092873 , 0.00543216,\n",
       "        0.14823077, 0.10458949, 0.05070392, 0.08660035, 0.0066658 ,\n",
       "        0.09190751, 0.02706383, 0.00344701, 0.01832385, 0.0050892 ,\n",
       "        0.0804783 , 0.02216659, 0.03293048, 0.0262987 , 0.02799846]),\n",
       " array([0.00274972, 0.01953747, 0.117988  , 0.05486906, 0.14210091,\n",
       "        0.01009403, 0.05769964, 0.00982466, 0.00811545, 0.04963091,\n",
       "        0.01795168, 0.02703119, 0.0105814 , 0.03016828, 0.03298731,\n",
       "        0.01313019, 0.10710759, 0.13120227, 0.11783512, 0.03939512]),\n",
       " array([0.0093951 , 0.01113828, 0.03418815, 0.04192035, 0.00273892,\n",
       "        0.00716019, 0.18765576, 0.02005538, 0.0189945 , 0.01851657,\n",
       "        0.04110065, 0.05228154, 0.2256655 , 0.09149358, 0.03589246,\n",
       "        0.02100029, 0.07061272, 0.02580763, 0.0504607 , 0.03392173]),\n",
       " array([0.04583099, 0.0008604 , 0.03652023, 0.01906301, 0.09177899,\n",
       "        0.07717335, 0.09417649, 0.16039798, 0.03211569, 0.01626423,\n",
       "        0.10433559, 0.00345794, 0.1483612 , 0.03975607, 0.0087479 ,\n",
       "        0.00174722, 0.00621351, 0.02241862, 0.01102269, 0.0797579 ])]"
      ]
     },
     "execution_count": 28,
     "metadata": {},
     "output_type": "execute_result"
    }
   ],
   "source": [
    "generate_population(population_size, N)"
   ]
  },
  {
   "cell_type": "code",
   "execution_count": null,
   "metadata": {},
   "outputs": [],
   "source": []
  },
  {
   "cell_type": "code",
   "execution_count": null,
   "metadata": {},
   "outputs": [],
   "source": []
  }
 ],
 "metadata": {
  "kernelspec": {
   "display_name": ".venv",
   "language": "python",
   "name": "python3"
  },
  "language_info": {
   "codemirror_mode": {
    "name": "ipython",
    "version": 3
   },
   "file_extension": ".py",
   "mimetype": "text/x-python",
   "name": "python",
   "nbconvert_exporter": "python",
   "pygments_lexer": "ipython3",
   "version": "3.12.1"
  }
 },
 "nbformat": 4,
 "nbformat_minor": 2
}
