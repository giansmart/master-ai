{
 "cells": [
  {
   "cell_type": "markdown",
   "metadata": {},
   "source": [
    "# Evaluación Continua 9\n",
    "\n",
    "### Indicaciones\n",
    "\n",
    "Para esta EC cuenta con dos bases de datos, una de clientes y otra de compras. \n",
    "\n",
    "La base de datos de clientes tiene la siguiente estructura:\n",
    "- `id_cliente`: identificador único del cliente.\n",
    "- `nombre`: nombre del cliente.\n",
    "- `direccion`: dirección del cliente.\n",
    "- `email`: correo electrónico del cliente.\n",
    "- `edad`: edad del cliente.\n",
    "- `fecha_registro`: fecha en la que el cliente se registró.\n",
    "- `activo`: indica si el cliente está activo o no.\n",
    "\n",
    "La base de datos de compras tiene la siguiente estructura:\n",
    "- `id_compra`: identificador único de la compra.\n",
    "- `id_cliente`: identificador único del cliente que realizó la compra.\n",
    "- `producto`: producto comprado.\n",
    "- `cantidad`: cantidad de productos comprados.\n",
    "- `precio`: precio del producto.\n",
    "- `fecha_compra`: fecha en la que se realizó la compra.\n",
    "\n",
    "Usted hará EDA (Exploratory Data Analysis) de ambas bases de datos a través del uso de `matplotlib`, `seaborn` y `plotly`."
   ]
  },
  {
   "cell_type": "code",
   "execution_count": 1,
   "metadata": {
    "vscode": {
     "languageId": "bat"
    }
   },
   "outputs": [
    {
     "name": "stdout",
     "output_type": "stream",
     "text": [
      "Collecting pandas\n",
      "  Downloading pandas-2.2.2-cp312-cp312-macosx_11_0_arm64.whl.metadata (19 kB)\n",
      "Requirement already satisfied: matplotlib in /Users/gipo/my-stuff/utec master/master-ai/semester I/Programming-101/.venv/lib/python3.12/site-packages (3.9.0)\n",
      "Collecting seaborn\n",
      "  Downloading seaborn-0.13.2-py3-none-any.whl.metadata (5.4 kB)\n",
      "Collecting plotly\n",
      "  Downloading plotly-5.22.0-py3-none-any.whl.metadata (7.1 kB)\n",
      "Collecting plotly.express\n",
      "  Downloading plotly_express-0.4.1-py2.py3-none-any.whl.metadata (1.7 kB)\n",
      "Collecting nbformat\n",
      "  Downloading nbformat-5.10.4-py3-none-any.whl.metadata (3.6 kB)\n",
      "Requirement already satisfied: numpy>=1.26.0 in /Users/gipo/my-stuff/utec master/master-ai/semester I/Programming-101/.venv/lib/python3.12/site-packages (from pandas) (1.26.4)\n",
      "Requirement already satisfied: python-dateutil>=2.8.2 in /Users/gipo/my-stuff/utec master/master-ai/semester I/Programming-101/.venv/lib/python3.12/site-packages (from pandas) (2.9.0.post0)\n",
      "Collecting pytz>=2020.1 (from pandas)\n",
      "  Downloading pytz-2024.1-py2.py3-none-any.whl.metadata (22 kB)\n",
      "Collecting tzdata>=2022.7 (from pandas)\n",
      "  Downloading tzdata-2024.1-py2.py3-none-any.whl.metadata (1.4 kB)\n",
      "Requirement already satisfied: contourpy>=1.0.1 in /Users/gipo/my-stuff/utec master/master-ai/semester I/Programming-101/.venv/lib/python3.12/site-packages (from matplotlib) (1.2.1)\n",
      "Requirement already satisfied: cycler>=0.10 in /Users/gipo/my-stuff/utec master/master-ai/semester I/Programming-101/.venv/lib/python3.12/site-packages (from matplotlib) (0.12.1)\n",
      "Requirement already satisfied: fonttools>=4.22.0 in /Users/gipo/my-stuff/utec master/master-ai/semester I/Programming-101/.venv/lib/python3.12/site-packages (from matplotlib) (4.53.0)\n",
      "Requirement already satisfied: kiwisolver>=1.3.1 in /Users/gipo/my-stuff/utec master/master-ai/semester I/Programming-101/.venv/lib/python3.12/site-packages (from matplotlib) (1.4.5)\n",
      "Requirement already satisfied: packaging>=20.0 in /Users/gipo/my-stuff/utec master/master-ai/semester I/Programming-101/.venv/lib/python3.12/site-packages (from matplotlib) (24.0)\n",
      "Requirement already satisfied: pillow>=8 in /Users/gipo/my-stuff/utec master/master-ai/semester I/Programming-101/.venv/lib/python3.12/site-packages (from matplotlib) (10.3.0)\n",
      "Requirement already satisfied: pyparsing>=2.3.1 in /Users/gipo/my-stuff/utec master/master-ai/semester I/Programming-101/.venv/lib/python3.12/site-packages (from matplotlib) (3.1.2)\n",
      "Collecting tenacity>=6.2.0 (from plotly)\n",
      "  Downloading tenacity-8.4.1-py3-none-any.whl.metadata (1.2 kB)\n",
      "Collecting statsmodels>=0.9.0 (from plotly.express)\n",
      "  Downloading statsmodels-0.14.2-cp312-cp312-macosx_11_0_arm64.whl.metadata (9.2 kB)\n",
      "Collecting scipy>=0.18 (from plotly.express)\n",
      "  Downloading scipy-1.13.1-cp312-cp312-macosx_12_0_arm64.whl.metadata (60 kB)\n",
      "\u001b[2K     \u001b[90m━━━━━━━━━━━━━━━━━━━━━━━━━━━━━━━━━━━━━━━\u001b[0m \u001b[32m60.6/60.6 kB\u001b[0m \u001b[31m468.3 kB/s\u001b[0m eta \u001b[36m0:00:00\u001b[0ma \u001b[36m0:00:01\u001b[0m\n",
      "\u001b[?25hCollecting patsy>=0.5 (from plotly.express)\n",
      "  Downloading patsy-0.5.6-py2.py3-none-any.whl.metadata (3.5 kB)\n",
      "Collecting fastjsonschema>=2.15 (from nbformat)\n",
      "  Downloading fastjsonschema-2.20.0-py3-none-any.whl.metadata (2.1 kB)\n",
      "Collecting jsonschema>=2.6 (from nbformat)\n",
      "  Downloading jsonschema-4.22.0-py3-none-any.whl.metadata (8.2 kB)\n",
      "Requirement already satisfied: jupyter-core!=5.0.*,>=4.12 in /Users/gipo/my-stuff/utec master/master-ai/semester I/Programming-101/.venv/lib/python3.12/site-packages (from nbformat) (5.7.2)\n",
      "Requirement already satisfied: traitlets>=5.1 in /Users/gipo/my-stuff/utec master/master-ai/semester I/Programming-101/.venv/lib/python3.12/site-packages (from nbformat) (5.14.3)\n",
      "Collecting attrs>=22.2.0 (from jsonschema>=2.6->nbformat)\n",
      "  Downloading attrs-23.2.0-py3-none-any.whl.metadata (9.5 kB)\n",
      "Collecting jsonschema-specifications>=2023.03.6 (from jsonschema>=2.6->nbformat)\n",
      "  Downloading jsonschema_specifications-2023.12.1-py3-none-any.whl.metadata (3.0 kB)\n",
      "Collecting referencing>=0.28.4 (from jsonschema>=2.6->nbformat)\n",
      "  Downloading referencing-0.35.1-py3-none-any.whl.metadata (2.8 kB)\n",
      "Collecting rpds-py>=0.7.1 (from jsonschema>=2.6->nbformat)\n",
      "  Downloading rpds_py-0.18.1-cp312-cp312-macosx_11_0_arm64.whl.metadata (4.1 kB)\n",
      "Requirement already satisfied: platformdirs>=2.5 in /Users/gipo/my-stuff/utec master/master-ai/semester I/Programming-101/.venv/lib/python3.12/site-packages (from jupyter-core!=5.0.*,>=4.12->nbformat) (4.2.2)\n",
      "Requirement already satisfied: six in /Users/gipo/my-stuff/utec master/master-ai/semester I/Programming-101/.venv/lib/python3.12/site-packages (from patsy>=0.5->plotly.express) (1.16.0)\n",
      "Downloading pandas-2.2.2-cp312-cp312-macosx_11_0_arm64.whl (11.3 MB)\n",
      "\u001b[2K   \u001b[90m━━━━━━━━━━━━━━━━━━━━━━━━━━━━━━━━━━━━━━━━\u001b[0m \u001b[32m11.3/11.3 MB\u001b[0m \u001b[31m11.0 MB/s\u001b[0m eta \u001b[36m0:00:00\u001b[0m00:01\u001b[0m0:01\u001b[0m\n",
      "\u001b[?25hDownloading seaborn-0.13.2-py3-none-any.whl (294 kB)\n",
      "\u001b[2K   \u001b[90m━━━━━━━━━━━━━━━━━━━━━━━━━━━━━━━━━━━━━━━━\u001b[0m \u001b[32m294.9/294.9 kB\u001b[0m \u001b[31m11.8 MB/s\u001b[0m eta \u001b[36m0:00:00\u001b[0m\n",
      "\u001b[?25hDownloading plotly-5.22.0-py3-none-any.whl (16.4 MB)\n",
      "\u001b[2K   \u001b[90m━━━━━━━━━━━━━━━━━━━━━━━━━━━━━━━━━━━━━━━━\u001b[0m \u001b[32m16.4/16.4 MB\u001b[0m \u001b[31m10.6 MB/s\u001b[0m eta \u001b[36m0:00:00\u001b[0m00:01\u001b[0m00:01\u001b[0m\n",
      "\u001b[?25hDownloading plotly_express-0.4.1-py2.py3-none-any.whl (2.9 kB)\n",
      "Downloading nbformat-5.10.4-py3-none-any.whl (78 kB)\n",
      "\u001b[2K   \u001b[90m━━━━━━━━━━━━━━━━━━━━━━━━━━━━━━━━━━━━━━━━\u001b[0m \u001b[32m78.5/78.5 kB\u001b[0m \u001b[31m7.8 MB/s\u001b[0m eta \u001b[36m0:00:00\u001b[0m\n",
      "\u001b[?25hDownloading fastjsonschema-2.20.0-py3-none-any.whl (23 kB)\n",
      "Downloading jsonschema-4.22.0-py3-none-any.whl (88 kB)\n",
      "\u001b[2K   \u001b[90m━━━━━━━━━━━━━━━━━━━━━━━━━━━━━━━━━━━━━━━━\u001b[0m \u001b[32m88.3/88.3 kB\u001b[0m \u001b[31m7.4 MB/s\u001b[0m eta \u001b[36m0:00:00\u001b[0m\n",
      "\u001b[?25hDownloading patsy-0.5.6-py2.py3-none-any.whl (233 kB)\n",
      "\u001b[2K   \u001b[90m━━━━━━━━━━━━━━━━━━━━━━━━━━━━━━━━━━━━━━━━\u001b[0m \u001b[32m233.9/233.9 kB\u001b[0m \u001b[31m10.4 MB/s\u001b[0m eta \u001b[36m0:00:00\u001b[0m\n",
      "\u001b[?25hDownloading pytz-2024.1-py2.py3-none-any.whl (505 kB)\n",
      "\u001b[2K   \u001b[90m━━━━━━━━━━━━━━━━━━━━━━━━━━━━━━━━━━━━━━━━\u001b[0m \u001b[32m505.5/505.5 kB\u001b[0m \u001b[31m10.7 MB/s\u001b[0m eta \u001b[36m0:00:00\u001b[0ma \u001b[36m0:00:01\u001b[0m\n",
      "\u001b[?25hDownloading scipy-1.13.1-cp312-cp312-macosx_12_0_arm64.whl (30.4 MB)\n",
      "\u001b[2K   \u001b[90m━━━━━━━━━━━━━━━━━━━━━━━━━━━━━━━━━━━━━━━━\u001b[0m \u001b[32m30.4/30.4 MB\u001b[0m \u001b[31m11.1 MB/s\u001b[0m eta \u001b[36m0:00:00\u001b[0m00:01\u001b[0m00:01\u001b[0m\n",
      "\u001b[?25hDownloading statsmodels-0.14.2-cp312-cp312-macosx_11_0_arm64.whl (10.1 MB)\n",
      "\u001b[2K   \u001b[90m━━━━━━━━━━━━━━━━━━━━━━━━━━━━━━━━━━━━━━━━\u001b[0m \u001b[32m10.1/10.1 MB\u001b[0m \u001b[31m11.5 MB/s\u001b[0m eta \u001b[36m0:00:00\u001b[0m00:01\u001b[0m0:01\u001b[0m\n",
      "\u001b[?25hDownloading tenacity-8.4.1-py3-none-any.whl (27 kB)\n",
      "Downloading tzdata-2024.1-py2.py3-none-any.whl (345 kB)\n",
      "\u001b[2K   \u001b[90m━━━━━━━━━━━━━━━━━━━━━━━━━━━━━━━━━━━━━━━━\u001b[0m \u001b[32m345.4/345.4 kB\u001b[0m \u001b[31m10.5 MB/s\u001b[0m eta \u001b[36m0:00:00\u001b[0m\n",
      "\u001b[?25hDownloading attrs-23.2.0-py3-none-any.whl (60 kB)\n",
      "\u001b[2K   \u001b[90m━━━━━━━━━━━━━━━━━━━━━━━━━━━━━━━━━━━━━━━━\u001b[0m \u001b[32m60.8/60.8 kB\u001b[0m \u001b[31m5.3 MB/s\u001b[0m eta \u001b[36m0:00:00\u001b[0m\n",
      "\u001b[?25hDownloading jsonschema_specifications-2023.12.1-py3-none-any.whl (18 kB)\n",
      "Downloading referencing-0.35.1-py3-none-any.whl (26 kB)\n",
      "Downloading rpds_py-0.18.1-cp312-cp312-macosx_11_0_arm64.whl (323 kB)\n",
      "\u001b[2K   \u001b[90m━━━━━━━━━━━━━━━━━━━━━━━━━━━━━━━━━━━━━━━━\u001b[0m \u001b[32m323.6/323.6 kB\u001b[0m \u001b[31m11.2 MB/s\u001b[0m eta \u001b[36m0:00:00\u001b[0m\n",
      "\u001b[?25hInstalling collected packages: pytz, fastjsonschema, tzdata, tenacity, scipy, rpds-py, patsy, attrs, referencing, plotly, pandas, statsmodels, seaborn, jsonschema-specifications, plotly.express, jsonschema, nbformat\n",
      "Successfully installed attrs-23.2.0 fastjsonschema-2.20.0 jsonschema-4.22.0 jsonschema-specifications-2023.12.1 nbformat-5.10.4 pandas-2.2.2 patsy-0.5.6 plotly-5.22.0 plotly.express-0.4.1 pytz-2024.1 referencing-0.35.1 rpds-py-0.18.1 scipy-1.13.1 seaborn-0.13.2 statsmodels-0.14.2 tenacity-8.4.1 tzdata-2024.1\n",
      "Note: you may need to restart the kernel to use updated packages.\n"
     ]
    }
   ],
   "source": [
    "%pip install pandas matplotlib seaborn plotly plotly.express nbformat"
   ]
  },
  {
   "cell_type": "code",
   "execution_count": 2,
   "metadata": {},
   "outputs": [],
   "source": [
    "import pandas as pd\n",
    "\n",
    "clientes = pd.read_csv('clientes_limpio.csv')\n",
    "compras = pd.read_csv('compras_limpio.csv')"
   ]
  },
  {
   "cell_type": "markdown",
   "metadata": {},
   "source": [
    "## `matplotlib`"
   ]
  },
  {
   "cell_type": "code",
   "execution_count": 3,
   "metadata": {},
   "outputs": [],
   "source": [
    "import matplotlib.pyplot as plt"
   ]
  },
  {
   "cell_type": "markdown",
   "metadata": {},
   "source": [
    "### 1.1. Crear un histograma que muestre la distribución de las edades de los clientes."
   ]
  },
  {
   "cell_type": "code",
   "execution_count": null,
   "metadata": {},
   "outputs": [],
   "source": []
  },
  {
   "cell_type": "markdown",
   "metadata": {},
   "source": [
    "### 1.2 Crear un gráfico de barras que muestre el número de compras realizadas en cada mes del año 2023."
   ]
  },
  {
   "cell_type": "code",
   "execution_count": null,
   "metadata": {},
   "outputs": [],
   "source": []
  },
  {
   "cell_type": "markdown",
   "metadata": {},
   "source": [
    "## `seaborn`"
   ]
  },
  {
   "cell_type": "code",
   "execution_count": 11,
   "metadata": {},
   "outputs": [],
   "source": [
    "import seaborn as sns"
   ]
  },
  {
   "cell_type": "markdown",
   "metadata": {},
   "source": [
    "### 2.1 Crear un boxplot que muestre la distribución de los precios para cada producto."
   ]
  },
  {
   "cell_type": "code",
   "execution_count": null,
   "metadata": {},
   "outputs": [],
   "source": []
  },
  {
   "cell_type": "markdown",
   "metadata": {},
   "source": [
    "### 2.2 Crear un regplot que muestre la relación entre la edad de los clientes y su gasto total.\n",
    "\n",
    "¿Crees que se puede establecer una relación entre la edad de los clientes y su gasto total? ¿Por qué?"
   ]
  },
  {
   "cell_type": "code",
   "execution_count": 38,
   "metadata": {},
   "outputs": [
    {
     "data": {
      "text/html": [
       "<div>\n",
       "<style scoped>\n",
       "    .dataframe tbody tr th:only-of-type {\n",
       "        vertical-align: middle;\n",
       "    }\n",
       "\n",
       "    .dataframe tbody tr th {\n",
       "        vertical-align: top;\n",
       "    }\n",
       "\n",
       "    .dataframe thead th {\n",
       "        text-align: right;\n",
       "    }\n",
       "</style>\n",
       "<table border=\"1\" class=\"dataframe\">\n",
       "  <thead>\n",
       "    <tr style=\"text-align: right;\">\n",
       "      <th></th>\n",
       "      <th>id_cliente</th>\n",
       "      <th>nombre</th>\n",
       "      <th>direccion</th>\n",
       "      <th>email</th>\n",
       "      <th>edad</th>\n",
       "      <th>fecha_registro</th>\n",
       "      <th>activo</th>\n",
       "    </tr>\n",
       "  </thead>\n",
       "  <tbody>\n",
       "    <tr>\n",
       "      <th>0</th>\n",
       "      <td>bdd640fb-0667-4ad1-9c80-317fa3b1799d</td>\n",
       "      <td>Daniel Doyle</td>\n",
       "      <td>600 Jeffery Parkways\\nNew Jamesside, MT 29394</td>\n",
       "      <td>zlawrence@example.org</td>\n",
       "      <td>56.0</td>\n",
       "      <td>2023-03-28</td>\n",
       "      <td>False</td>\n",
       "    </tr>\n",
       "  </tbody>\n",
       "</table>\n",
       "</div>"
      ],
      "text/plain": [
       "                             id_cliente        nombre  \\\n",
       "0  bdd640fb-0667-4ad1-9c80-317fa3b1799d  Daniel Doyle   \n",
       "\n",
       "                                       direccion                  email  edad  \\\n",
       "0  600 Jeffery Parkways\\nNew Jamesside, MT 29394  zlawrence@example.org  56.0   \n",
       "\n",
       "  fecha_registro  activo  \n",
       "0     2023-03-28   False  "
      ]
     },
     "execution_count": 38,
     "metadata": {},
     "output_type": "execute_result"
    }
   ],
   "source": [
    "clientes.head()\n",
    "id_cliente_selected = \"bdd640fb-0667-4ad1-9c80-317fa3b1799d\"\n",
    "clientes[clientes[\"id_cliente\"] == id_cliente_selected]"
   ]
  },
  {
   "cell_type": "code",
   "execution_count": 39,
   "metadata": {},
   "outputs": [
    {
     "data": {
      "text/html": [
       "<div>\n",
       "<style scoped>\n",
       "    .dataframe tbody tr th:only-of-type {\n",
       "        vertical-align: middle;\n",
       "    }\n",
       "\n",
       "    .dataframe tbody tr th {\n",
       "        vertical-align: top;\n",
       "    }\n",
       "\n",
       "    .dataframe thead th {\n",
       "        text-align: right;\n",
       "    }\n",
       "</style>\n",
       "<table border=\"1\" class=\"dataframe\">\n",
       "  <thead>\n",
       "    <tr style=\"text-align: right;\">\n",
       "      <th></th>\n",
       "      <th>id_compra</th>\n",
       "      <th>id_cliente</th>\n",
       "      <th>producto</th>\n",
       "      <th>cantidad</th>\n",
       "      <th>precio</th>\n",
       "      <th>fecha_compra</th>\n",
       "    </tr>\n",
       "  </thead>\n",
       "  <tbody>\n",
       "    <tr>\n",
       "      <th>6</th>\n",
       "      <td>06e3f949-8cd3-4c62-8482-9b71ae84b81c</td>\n",
       "      <td>bdd640fb-0667-4ad1-9c80-317fa3b1799d</td>\n",
       "      <td>calcetines</td>\n",
       "      <td>13</td>\n",
       "      <td>431.06</td>\n",
       "      <td>2024-05-07</td>\n",
       "    </tr>\n",
       "    <tr>\n",
       "      <th>14</th>\n",
       "      <td>f7eae66e-ca6c-4f9b-8969-71018b2c550a</td>\n",
       "      <td>bdd640fb-0667-4ad1-9c80-317fa3b1799d</td>\n",
       "      <td>zapatos</td>\n",
       "      <td>2</td>\n",
       "      <td>267.81</td>\n",
       "      <td>2023-02-28</td>\n",
       "    </tr>\n",
       "    <tr>\n",
       "      <th>21</th>\n",
       "      <td>768b4f7e-6421-4e66-9fc6-4cd0721e8b1f</td>\n",
       "      <td>bdd640fb-0667-4ad1-9c80-317fa3b1799d</td>\n",
       "      <td>calcetines</td>\n",
       "      <td>18</td>\n",
       "      <td>462.72</td>\n",
       "      <td>2023-12-27</td>\n",
       "    </tr>\n",
       "    <tr>\n",
       "      <th>57</th>\n",
       "      <td>1e0d02b5-fe74-42cd-9d83-ad037066e289</td>\n",
       "      <td>bdd640fb-0667-4ad1-9c80-317fa3b1799d</td>\n",
       "      <td>corbata</td>\n",
       "      <td>1</td>\n",
       "      <td>223.96</td>\n",
       "      <td>2023-12-29</td>\n",
       "    </tr>\n",
       "    <tr>\n",
       "      <th>59</th>\n",
       "      <td>9c3a1e0b-b5f3-48aa-9c6d-afff59c2f153</td>\n",
       "      <td>bdd640fb-0667-4ad1-9c80-317fa3b1799d</td>\n",
       "      <td>playera</td>\n",
       "      <td>5</td>\n",
       "      <td>307.80</td>\n",
       "      <td>2023-09-16</td>\n",
       "    </tr>\n",
       "    <tr>\n",
       "      <th>67</th>\n",
       "      <td>21f8072d-ddb7-470e-b390-b059207bbe21</td>\n",
       "      <td>bdd640fb-0667-4ad1-9c80-317fa3b1799d</td>\n",
       "      <td>short</td>\n",
       "      <td>5</td>\n",
       "      <td>343.56</td>\n",
       "      <td>2022-12-10</td>\n",
       "    </tr>\n",
       "    <tr>\n",
       "      <th>122</th>\n",
       "      <td>4f67448e-10ec-4b1f-a4a5-c736ae59aa52</td>\n",
       "      <td>bdd640fb-0667-4ad1-9c80-317fa3b1799d</td>\n",
       "      <td>zapatos</td>\n",
       "      <td>13</td>\n",
       "      <td>305.06</td>\n",
       "      <td>2023-11-03</td>\n",
       "    </tr>\n",
       "    <tr>\n",
       "      <th>170</th>\n",
       "      <td>b46788bd-d38e-43e4-8de1-087bafa14a55</td>\n",
       "      <td>bdd640fb-0667-4ad1-9c80-317fa3b1799d</td>\n",
       "      <td>corbata</td>\n",
       "      <td>14</td>\n",
       "      <td>147.87</td>\n",
       "      <td>2023-11-02</td>\n",
       "    </tr>\n",
       "  </tbody>\n",
       "</table>\n",
       "</div>"
      ],
      "text/plain": [
       "                                id_compra  \\\n",
       "6    06e3f949-8cd3-4c62-8482-9b71ae84b81c   \n",
       "14   f7eae66e-ca6c-4f9b-8969-71018b2c550a   \n",
       "21   768b4f7e-6421-4e66-9fc6-4cd0721e8b1f   \n",
       "57   1e0d02b5-fe74-42cd-9d83-ad037066e289   \n",
       "59   9c3a1e0b-b5f3-48aa-9c6d-afff59c2f153   \n",
       "67   21f8072d-ddb7-470e-b390-b059207bbe21   \n",
       "122  4f67448e-10ec-4b1f-a4a5-c736ae59aa52   \n",
       "170  b46788bd-d38e-43e4-8de1-087bafa14a55   \n",
       "\n",
       "                               id_cliente    producto  cantidad  precio  \\\n",
       "6    bdd640fb-0667-4ad1-9c80-317fa3b1799d  calcetines        13  431.06   \n",
       "14   bdd640fb-0667-4ad1-9c80-317fa3b1799d     zapatos         2  267.81   \n",
       "21   bdd640fb-0667-4ad1-9c80-317fa3b1799d  calcetines        18  462.72   \n",
       "57   bdd640fb-0667-4ad1-9c80-317fa3b1799d     corbata         1  223.96   \n",
       "59   bdd640fb-0667-4ad1-9c80-317fa3b1799d     playera         5  307.80   \n",
       "67   bdd640fb-0667-4ad1-9c80-317fa3b1799d       short         5  343.56   \n",
       "122  bdd640fb-0667-4ad1-9c80-317fa3b1799d     zapatos        13  305.06   \n",
       "170  bdd640fb-0667-4ad1-9c80-317fa3b1799d     corbata        14  147.87   \n",
       "\n",
       "    fecha_compra  \n",
       "6     2024-05-07  \n",
       "14    2023-02-28  \n",
       "21    2023-12-27  \n",
       "57    2023-12-29  \n",
       "59    2023-09-16  \n",
       "67    2022-12-10  \n",
       "122   2023-11-03  \n",
       "170   2023-11-02  "
      ]
     },
     "execution_count": 39,
     "metadata": {},
     "output_type": "execute_result"
    }
   ],
   "source": [
    "compras.head()\n",
    "compras[compras[\"id_cliente\"] == id_cliente_selected]"
   ]
  },
  {
   "cell_type": "code",
   "execution_count": 40,
   "metadata": {},
   "outputs": [
    {
     "data": {
      "text/html": [
       "<div>\n",
       "<style scoped>\n",
       "    .dataframe tbody tr th:only-of-type {\n",
       "        vertical-align: middle;\n",
       "    }\n",
       "\n",
       "    .dataframe tbody tr th {\n",
       "        vertical-align: top;\n",
       "    }\n",
       "\n",
       "    .dataframe thead th {\n",
       "        text-align: right;\n",
       "    }\n",
       "</style>\n",
       "<table border=\"1\" class=\"dataframe\">\n",
       "  <thead>\n",
       "    <tr style=\"text-align: right;\">\n",
       "      <th></th>\n",
       "      <th>id_cliente</th>\n",
       "      <th>nombre</th>\n",
       "      <th>direccion</th>\n",
       "      <th>email</th>\n",
       "      <th>edad</th>\n",
       "      <th>fecha_registro</th>\n",
       "      <th>activo</th>\n",
       "      <th>id_compra</th>\n",
       "      <th>producto</th>\n",
       "      <th>cantidad</th>\n",
       "      <th>precio</th>\n",
       "      <th>fecha_compra</th>\n",
       "    </tr>\n",
       "  </thead>\n",
       "  <tbody>\n",
       "    <tr>\n",
       "      <th>0</th>\n",
       "      <td>bdd640fb-0667-4ad1-9c80-317fa3b1799d</td>\n",
       "      <td>Daniel Doyle</td>\n",
       "      <td>600 Jeffery Parkways\\nNew Jamesside, MT 29394</td>\n",
       "      <td>zlawrence@example.org</td>\n",
       "      <td>56.0</td>\n",
       "      <td>2023-03-28</td>\n",
       "      <td>False</td>\n",
       "      <td>06e3f949-8cd3-4c62-8482-9b71ae84b81c</td>\n",
       "      <td>calcetines</td>\n",
       "      <td>13</td>\n",
       "      <td>431.06</td>\n",
       "      <td>2024-05-07</td>\n",
       "    </tr>\n",
       "    <tr>\n",
       "      <th>1</th>\n",
       "      <td>bdd640fb-0667-4ad1-9c80-317fa3b1799d</td>\n",
       "      <td>Daniel Doyle</td>\n",
       "      <td>600 Jeffery Parkways\\nNew Jamesside, MT 29394</td>\n",
       "      <td>zlawrence@example.org</td>\n",
       "      <td>56.0</td>\n",
       "      <td>2023-03-28</td>\n",
       "      <td>False</td>\n",
       "      <td>f7eae66e-ca6c-4f9b-8969-71018b2c550a</td>\n",
       "      <td>zapatos</td>\n",
       "      <td>2</td>\n",
       "      <td>267.81</td>\n",
       "      <td>2023-02-28</td>\n",
       "    </tr>\n",
       "    <tr>\n",
       "      <th>2</th>\n",
       "      <td>bdd640fb-0667-4ad1-9c80-317fa3b1799d</td>\n",
       "      <td>Daniel Doyle</td>\n",
       "      <td>600 Jeffery Parkways\\nNew Jamesside, MT 29394</td>\n",
       "      <td>zlawrence@example.org</td>\n",
       "      <td>56.0</td>\n",
       "      <td>2023-03-28</td>\n",
       "      <td>False</td>\n",
       "      <td>768b4f7e-6421-4e66-9fc6-4cd0721e8b1f</td>\n",
       "      <td>calcetines</td>\n",
       "      <td>18</td>\n",
       "      <td>462.72</td>\n",
       "      <td>2023-12-27</td>\n",
       "    </tr>\n",
       "    <tr>\n",
       "      <th>3</th>\n",
       "      <td>bdd640fb-0667-4ad1-9c80-317fa3b1799d</td>\n",
       "      <td>Daniel Doyle</td>\n",
       "      <td>600 Jeffery Parkways\\nNew Jamesside, MT 29394</td>\n",
       "      <td>zlawrence@example.org</td>\n",
       "      <td>56.0</td>\n",
       "      <td>2023-03-28</td>\n",
       "      <td>False</td>\n",
       "      <td>1e0d02b5-fe74-42cd-9d83-ad037066e289</td>\n",
       "      <td>corbata</td>\n",
       "      <td>1</td>\n",
       "      <td>223.96</td>\n",
       "      <td>2023-12-29</td>\n",
       "    </tr>\n",
       "    <tr>\n",
       "      <th>4</th>\n",
       "      <td>bdd640fb-0667-4ad1-9c80-317fa3b1799d</td>\n",
       "      <td>Daniel Doyle</td>\n",
       "      <td>600 Jeffery Parkways\\nNew Jamesside, MT 29394</td>\n",
       "      <td>zlawrence@example.org</td>\n",
       "      <td>56.0</td>\n",
       "      <td>2023-03-28</td>\n",
       "      <td>False</td>\n",
       "      <td>9c3a1e0b-b5f3-48aa-9c6d-afff59c2f153</td>\n",
       "      <td>playera</td>\n",
       "      <td>5</td>\n",
       "      <td>307.80</td>\n",
       "      <td>2023-09-16</td>\n",
       "    </tr>\n",
       "    <tr>\n",
       "      <th>5</th>\n",
       "      <td>bdd640fb-0667-4ad1-9c80-317fa3b1799d</td>\n",
       "      <td>Daniel Doyle</td>\n",
       "      <td>600 Jeffery Parkways\\nNew Jamesside, MT 29394</td>\n",
       "      <td>zlawrence@example.org</td>\n",
       "      <td>56.0</td>\n",
       "      <td>2023-03-28</td>\n",
       "      <td>False</td>\n",
       "      <td>21f8072d-ddb7-470e-b390-b059207bbe21</td>\n",
       "      <td>short</td>\n",
       "      <td>5</td>\n",
       "      <td>343.56</td>\n",
       "      <td>2022-12-10</td>\n",
       "    </tr>\n",
       "    <tr>\n",
       "      <th>6</th>\n",
       "      <td>bdd640fb-0667-4ad1-9c80-317fa3b1799d</td>\n",
       "      <td>Daniel Doyle</td>\n",
       "      <td>600 Jeffery Parkways\\nNew Jamesside, MT 29394</td>\n",
       "      <td>zlawrence@example.org</td>\n",
       "      <td>56.0</td>\n",
       "      <td>2023-03-28</td>\n",
       "      <td>False</td>\n",
       "      <td>4f67448e-10ec-4b1f-a4a5-c736ae59aa52</td>\n",
       "      <td>zapatos</td>\n",
       "      <td>13</td>\n",
       "      <td>305.06</td>\n",
       "      <td>2023-11-03</td>\n",
       "    </tr>\n",
       "    <tr>\n",
       "      <th>7</th>\n",
       "      <td>bdd640fb-0667-4ad1-9c80-317fa3b1799d</td>\n",
       "      <td>Daniel Doyle</td>\n",
       "      <td>600 Jeffery Parkways\\nNew Jamesside, MT 29394</td>\n",
       "      <td>zlawrence@example.org</td>\n",
       "      <td>56.0</td>\n",
       "      <td>2023-03-28</td>\n",
       "      <td>False</td>\n",
       "      <td>b46788bd-d38e-43e4-8de1-087bafa14a55</td>\n",
       "      <td>corbata</td>\n",
       "      <td>14</td>\n",
       "      <td>147.87</td>\n",
       "      <td>2023-11-02</td>\n",
       "    </tr>\n",
       "  </tbody>\n",
       "</table>\n",
       "</div>"
      ],
      "text/plain": [
       "                             id_cliente        nombre  \\\n",
       "0  bdd640fb-0667-4ad1-9c80-317fa3b1799d  Daniel Doyle   \n",
       "1  bdd640fb-0667-4ad1-9c80-317fa3b1799d  Daniel Doyle   \n",
       "2  bdd640fb-0667-4ad1-9c80-317fa3b1799d  Daniel Doyle   \n",
       "3  bdd640fb-0667-4ad1-9c80-317fa3b1799d  Daniel Doyle   \n",
       "4  bdd640fb-0667-4ad1-9c80-317fa3b1799d  Daniel Doyle   \n",
       "5  bdd640fb-0667-4ad1-9c80-317fa3b1799d  Daniel Doyle   \n",
       "6  bdd640fb-0667-4ad1-9c80-317fa3b1799d  Daniel Doyle   \n",
       "7  bdd640fb-0667-4ad1-9c80-317fa3b1799d  Daniel Doyle   \n",
       "\n",
       "                                       direccion                  email  edad  \\\n",
       "0  600 Jeffery Parkways\\nNew Jamesside, MT 29394  zlawrence@example.org  56.0   \n",
       "1  600 Jeffery Parkways\\nNew Jamesside, MT 29394  zlawrence@example.org  56.0   \n",
       "2  600 Jeffery Parkways\\nNew Jamesside, MT 29394  zlawrence@example.org  56.0   \n",
       "3  600 Jeffery Parkways\\nNew Jamesside, MT 29394  zlawrence@example.org  56.0   \n",
       "4  600 Jeffery Parkways\\nNew Jamesside, MT 29394  zlawrence@example.org  56.0   \n",
       "5  600 Jeffery Parkways\\nNew Jamesside, MT 29394  zlawrence@example.org  56.0   \n",
       "6  600 Jeffery Parkways\\nNew Jamesside, MT 29394  zlawrence@example.org  56.0   \n",
       "7  600 Jeffery Parkways\\nNew Jamesside, MT 29394  zlawrence@example.org  56.0   \n",
       "\n",
       "  fecha_registro  activo                             id_compra    producto  \\\n",
       "0     2023-03-28   False  06e3f949-8cd3-4c62-8482-9b71ae84b81c  calcetines   \n",
       "1     2023-03-28   False  f7eae66e-ca6c-4f9b-8969-71018b2c550a     zapatos   \n",
       "2     2023-03-28   False  768b4f7e-6421-4e66-9fc6-4cd0721e8b1f  calcetines   \n",
       "3     2023-03-28   False  1e0d02b5-fe74-42cd-9d83-ad037066e289     corbata   \n",
       "4     2023-03-28   False  9c3a1e0b-b5f3-48aa-9c6d-afff59c2f153     playera   \n",
       "5     2023-03-28   False  21f8072d-ddb7-470e-b390-b059207bbe21       short   \n",
       "6     2023-03-28   False  4f67448e-10ec-4b1f-a4a5-c736ae59aa52     zapatos   \n",
       "7     2023-03-28   False  b46788bd-d38e-43e4-8de1-087bafa14a55     corbata   \n",
       "\n",
       "   cantidad  precio fecha_compra  \n",
       "0        13  431.06   2024-05-07  \n",
       "1         2  267.81   2023-02-28  \n",
       "2        18  462.72   2023-12-27  \n",
       "3         1  223.96   2023-12-29  \n",
       "4         5  307.80   2023-09-16  \n",
       "5         5  343.56   2022-12-10  \n",
       "6        13  305.06   2023-11-03  \n",
       "7        14  147.87   2023-11-02  "
      ]
     },
     "execution_count": 40,
     "metadata": {},
     "output_type": "execute_result"
    }
   ],
   "source": [
    "clientes_compras_df = clientes.merge(compras, how=\"inner\", on=\"id_cliente\")\n",
    "clientes_compras_df[clientes_compras_df[\"id_cliente\"] == id_cliente_selected]"
   ]
  },
  {
   "cell_type": "code",
   "execution_count": 42,
   "metadata": {},
   "outputs": [
    {
     "data": {
      "text/html": [
       "<div>\n",
       "<style scoped>\n",
       "    .dataframe tbody tr th:only-of-type {\n",
       "        vertical-align: middle;\n",
       "    }\n",
       "\n",
       "    .dataframe tbody tr th {\n",
       "        vertical-align: top;\n",
       "    }\n",
       "\n",
       "    .dataframe thead th {\n",
       "        text-align: right;\n",
       "    }\n",
       "</style>\n",
       "<table border=\"1\" class=\"dataframe\">\n",
       "  <thead>\n",
       "    <tr style=\"text-align: right;\">\n",
       "      <th></th>\n",
       "      <th>id_cliente</th>\n",
       "      <th>edad</th>\n",
       "      <th>gasto_total</th>\n",
       "    </tr>\n",
       "  </thead>\n",
       "  <tbody>\n",
       "    <tr>\n",
       "      <th>62</th>\n",
       "      <td>bdd640fb-0667-4ad1-9c80-317fa3b1799d</td>\n",
       "      <td>56.0</td>\n",
       "      <td>23985.08</td>\n",
       "    </tr>\n",
       "  </tbody>\n",
       "</table>\n",
       "</div>"
      ],
      "text/plain": [
       "                              id_cliente  edad  gasto_total\n",
       "62  bdd640fb-0667-4ad1-9c80-317fa3b1799d  56.0     23985.08"
      ]
     },
     "execution_count": 42,
     "metadata": {},
     "output_type": "execute_result"
    }
   ],
   "source": [
    "clientes_compras_df[\"gasto_total\"] = clientes_compras_df[\"cantidad\"] * clientes_compras_df[\"precio\"]\n",
    "gastos_cliente_df = clientes_compras_df.groupby([\"id_cliente\",\"edad\"])[\"gasto_total\"].sum().reset_index()\n",
    "gastos_cliente_df.head()\n",
    "gastos_cliente_df[gastos_cliente_df[\"id_cliente\"] == id_cliente_selected]"
   ]
  },
  {
   "cell_type": "code",
   "execution_count": 48,
   "metadata": {},
   "outputs": [
    {
     "data": {
      "text/plain": [
       "<Axes: xlabel='edad', ylabel='gasto_total'>"
      ]
     },
     "execution_count": 48,
     "metadata": {},
     "output_type": "execute_result"
    },
    {
     "data": {
      "image/png": "[encoded data removed]",
      "text/plain": [
       "<Figure size 640x480 with 1 Axes>"
      ]
     },
     "metadata": {},
     "output_type": "display_data"
    }
   ],
   "source": [
    "sns.regplot(x=\"edad\", y=\"gasto_total\", data=gastos_cliente_df)"
   ]
  },
  {
   "cell_type": "code",
   "execution_count": 49,
   "metadata": {},
   "outputs": [
    {
     "data": {
      "text/plain": [
       "<Axes: xlabel='edad', ylabel='gasto_total'>"
      ]
     },
     "execution_count": 49,
     "metadata": {},
     "output_type": "execute_result"
    },
    {
     "data": {
      "image/png": "[encoded data removed]",
      "text/plain": [
       "<Figure size 640x480 with 1 Axes>"
      ]
     },
     "metadata": {},
     "output_type": "display_data"
    }
   ],
   "source": [
    "clientes_compras_df = clientes.merge(compras, how=\"inner\", on=\"id_cliente\")\n",
    "clientes_compras_df[\"gasto_total\"] = clientes_compras_df[\"cantidad\"] * clientes_compras_df[\"precio\"]\n",
    "gastos_cliente_df = clientes_compras_df.groupby([\"id_cliente\",\"edad\"])[\"gasto_total\"].sum().reset_index()\n",
    "sns.regplot(x=\"edad\", y=\"gasto_total\", data=gastos_cliente_df)"
   ]
  },
  {
   "cell_type": "markdown",
   "metadata": {},
   "source": [
    "Determinando el Coeficiente de determinacion (R^2) para ver si existe una relación fuerte o débil entre la edad y el gasto total"
   ]
  },
  {
   "cell_type": "code",
   "execution_count": 53,
   "metadata": {},
   "outputs": [
    {
     "name": "stdout",
     "output_type": "stream",
     "text": [
      "Note: you may need to restart the kernel to use updated packages.\n"
     ]
    }
   ],
   "source": [
    "%pip install scikit-learn --quiet"
   ]
  },
  {
   "cell_type": "code",
   "execution_count": 56,
   "metadata": {},
   "outputs": [
    {
     "name": "stdout",
     "output_type": "stream",
     "text": [
      "Coeficiente de determinación (R^2): 0.019\n"
     ]
    }
   ],
   "source": [
    "from sklearn.linear_model import LinearRegression\n",
    "from sklearn.metrics import r2_score\n",
    "\n",
    "X = gastos_cliente_df[[\"edad\"]]\n",
    "y = gastos_cliente_df[[\"gasto_total\"]]\n",
    "\n",
    "model = LinearRegression()\n",
    "model.fit(X,y)\n",
    "y_pred = model.predict(X)\n",
    "\n",
    "r2 = r2_score(y, y_pred)\n",
    "print(f\"Coeficiente de determinación (R^2): {round(r2,3)}\")"
   ]
  },
  {
   "cell_type": "markdown",
   "metadata": {},
   "source": [
    "Existe una pequeña relación positiva entre el gasto total y la edad, sin embargo ésta NO ES SIGNIFICATIVA."
   ]
  },
  {
   "cell_type": "markdown",
   "metadata": {},
   "source": [
    "## `plotly`"
   ]
  },
  {
   "cell_type": "code",
   "execution_count": null,
   "metadata": {},
   "outputs": [],
   "source": [
    "import plotly.express as px"
   ]
  },
  {
   "cell_type": "markdown",
   "metadata": {},
   "source": [
    "### 3.1 Crear un gráfico de barras interactivo que muestre el top 20 clientes con más compras."
   ]
  },
  {
   "cell_type": "code",
   "execution_count": null,
   "metadata": {},
   "outputs": [],
   "source": []
  },
  {
   "cell_type": "markdown",
   "metadata": {},
   "source": [
    "### 3.2 Crear un gráfico de líneas que muestre el número de compras realizadas cada mes a lo largo del tiempo.\n",
    "\n"
   ]
  },
  {
   "cell_type": "code",
   "execution_count": null,
   "metadata": {},
   "outputs": [],
   "source": []
  }
 ],
 "metadata": {
  "kernelspec": {
   "display_name": ".venv",
   "language": "python",
   "name": "python3"
  },
  "language_info": {
   "codemirror_mode": {
    "name": "ipython",
    "version": 3
   },
   "file_extension": ".py",
   "mimetype": "text/x-python",
   "name": "python",
   "nbconvert_exporter": "python",
   "pygments_lexer": "ipython3",
   "version": "3.12.1"
  }
 },
 "nbformat": 4,
 "nbformat_minor": 2
}
